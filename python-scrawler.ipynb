{
 "metadata": {
  "name": "",
  "signature": "sha256:2e8033df04ae0addfedcdc9f216d275b2b13bf2636521cd1632158ed503a355c"
 },
 "nbformat": 3,
 "nbformat_minor": 0,
 "worksheets": [
  {
   "cells": [
    {
     "cell_type": "markdown",
     "metadata": {},
     "source": [
      "\u4f7f\u7528python\u7f16\u5199\u7f51\u7edc\u722c\u866b"
     ]
    },
    {
     "cell_type": "markdown",
     "metadata": {},
     "source": [
      "\u4fa6\u6d4b\u7f51\u7ad9\u7684\u4fe1\u606f\uff1a"
     ]
    },
    {
     "cell_type": "code",
     "collapsed": false,
     "input": [
      "import builtwith, whois"
     ],
     "language": "python",
     "metadata": {},
     "outputs": [],
     "prompt_number": 3
    },
    {
     "cell_type": "code",
     "collapsed": false,
     "input": [
      "url = r'http://www.dalen-tech.com'"
     ],
     "language": "python",
     "metadata": {},
     "outputs": [],
     "prompt_number": 6
    },
    {
     "cell_type": "code",
     "collapsed": false,
     "input": [
      "builtwith.parse(url)"
     ],
     "language": "python",
     "metadata": {},
     "outputs": [
      {
       "metadata": {},
       "output_type": "pyout",
       "prompt_number": 8,
       "text": [
        "{u'javascript-frameworks': [u'jQuery'],\n",
        " u'operating-systems': [u'Windows Server'],\n",
        " u'web-servers': [u'IIS']}"
       ]
      }
     ],
     "prompt_number": 8
    },
    {
     "cell_type": "code",
     "collapsed": false,
     "input": [
      "whois.whois(url)"
     ],
     "language": "python",
     "metadata": {},
     "outputs": [
      {
       "metadata": {},
       "output_type": "pyout",
       "prompt_number": 9,
       "text": [
        "{u'updated_date': [datetime.datetime(2016, 9, 12, 0, 0),\n",
        "  datetime.datetime(2014, 11, 27, 3, 42, 53)],\n",
        " u'status': [u'ok https://icann.org/epp#ok',\n",
        "  u'ok https://www.icann.org/epp#ok'],\n",
        " u'name': u'jiangsu dalun dianzi gufen youxiangongsi',\n",
        " u'dnssec': u'unsigned',\n",
        " u'city': u'suzhoushi',\n",
        " u'expiration_date': [datetime.datetime(2016, 12, 2, 0, 0),\n",
        "  datetime.datetime(2016, 12, 2, 3, 45, 9)],\n",
        " u'zipcode': u'215000',\n",
        " u'domain_name': [u'DALEN-TECH.COM', u'dalen-tech.com'],\n",
        " u'country': u'CN',\n",
        " u'whois_server': u'whois.paycenter.com.cn',\n",
        " u'state': u'jiangsusheng',\n",
        " u'registrar': u'XINNET TECHNOLOGY CORPORATION',\n",
        " u'referral_url': u'http://www.xinnet.com',\n",
        " u'address': u'suzhou shi gaoxinqu',\n",
        " u'name_servers': [u'NS19.XINCACHE.COM',\n",
        "  u'NS20.XINCACHE.COM',\n",
        "  u'ns19.xincache.com',\n",
        "  u'ns20.xincache.com'],\n",
        " u'org': u'jiangsu dalun dianzi gufen youxiangongsi',\n",
        " u'creation_date': [datetime.datetime(2011, 12, 2, 0, 0),\n",
        "  datetime.datetime(2011, 12, 2, 3, 45, 9)],\n",
        " u'emails': [u'supervision@xinnet.com', u'epowerit@126.com']}"
       ]
      }
     ],
     "prompt_number": 9
    },
    {
     "cell_type": "markdown",
     "metadata": {},
     "source": [
      "\u6d4b\u8bd5\u4e2d\u56fd\u4e13\u5229\u516c\u544a\u67e5\u8be2\u7cfb\u7edf\u7684\u6280\u672f\uff1a"
     ]
    },
    {
     "cell_type": "code",
     "collapsed": false,
     "input": [
      "url2 = r'http://epub.sipo.gov.cn/'"
     ],
     "language": "python",
     "metadata": {},
     "outputs": [],
     "prompt_number": 10
    },
    {
     "cell_type": "code",
     "collapsed": false,
     "input": [
      "whois.whois(url2)"
     ],
     "language": "python",
     "metadata": {},
     "outputs": [
      {
       "metadata": {},
       "output_type": "pyout",
       "prompt_number": 11,
       "text": [
        "{u'updated_date': None,\n",
        " u'status': [u'serverDeleteProhibited',\n",
        "  u'serverUpdateProhibited',\n",
        "  u'serverTransferProhibited'],\n",
        " u'name': None,\n",
        " u'dnssec': u'unsigned',\n",
        " u'city': None,\n",
        " u'expiration_date': None,\n",
        " u'zipcode': None,\n",
        " u'domain_name': u'sipo.gov.cn',\n",
        " u'country': None,\n",
        " u'whois_server': None,\n",
        " u'state': None,\n",
        " u'registrar': u'\\u5317\\u4eac\\u4e2d\\u79d1\\u4e09\\u65b9\\u7f51\\u7edc\\u6280\\u672f\\u6709\\u9650\\u516c\\u53f8*',\n",
        " u'referral_url': None,\n",
        " u'address': None,\n",
        " u'name_servers': [u'ns1.sipo.gov.cn', u'ns2.sipo.gov.cn'],\n",
        " u'org': None,\n",
        " u'creation_date': None,\n",
        " u'emails': u'www@cpon.cpo.cn.net'}"
       ]
      }
     ],
     "prompt_number": 11
    },
    {
     "cell_type": "code",
     "collapsed": false,
     "input": [
      "builtwith.parse(url2)"
     ],
     "language": "python",
     "metadata": {},
     "outputs": [
      {
       "metadata": {},
       "output_type": "pyout",
       "prompt_number": 12,
       "text": [
        "{u'javascript-frameworks': [u'jQuery'], u'programming-languages': [u'Java']}"
       ]
      }
     ],
     "prompt_number": 12
    },
    {
     "cell_type": "markdown",
     "metadata": {},
     "source": [
      "\u53ef\u89c1\u8be5\u7cfb\u7edf\u4f7f\u7528\u4e86`jQuery`\u6846\u67b6\u5e76\u4f7f\u7528`Java`\u7f16\u5199\u3002\u8be5\u7f51\u7ad9\u6ca1\u6709\u63d0\u4f9b\u8db3\u591f\u7684whois\u4fe1\u606f\u3002"
     ]
    }
   ],
   "metadata": {}
  }
 ]
}